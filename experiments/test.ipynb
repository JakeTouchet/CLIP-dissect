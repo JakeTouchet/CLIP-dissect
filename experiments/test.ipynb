{
 "cells": [
  {
   "cell_type": "code",
   "execution_count": null,
   "metadata": {},
   "outputs": [],
   "source": [
    "import numpy as np\n",
    "import matplotlib.pyplot as plt\n",
    "\n",
    "def display_random_image():\n",
    "    # Generate a random 100x100 image\n",
    "    random_image = np.random.rand(100, 100, 3)\n",
    "    \n",
    "    # Create a new figure\n",
    "    plt.figure(figsize=(6, 6))\n",
    "    \n",
    "    # Display the image\n",
    "    plt.imshow(random_image)\n",
    "    \n",
    "    # Remove axis ticks\n",
    "    plt.axis('off')\n",
    "    \n",
    "    # Add a title\n",
    "    plt.title('Random Image')\n",
    "    \n",
    "    # Show the plot\n",
    "    plt.show()\n",
    "\n",
    "display_random_image()"
   ]
  }
 ],
 "metadata": {
  "language_info": {
   "name": "python"
  }
 },
 "nbformat": 4,
 "nbformat_minor": 2
}
